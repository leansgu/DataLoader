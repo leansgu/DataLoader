{
 "cells": [
  {
   "cell_type": "code",
   "execution_count": 1,
   "metadata": {},
   "outputs": [],
   "source": [
    "#### fruit ------ dataloader 1 \n",
    "#### error!!!"
   ]
  },
  {
   "cell_type": "code",
   "execution_count": 7,
   "metadata": {},
   "outputs": [],
   "source": [
    "import pandas as pd\n",
    "from torch.utils.data import Dataset\n",
    "from PIL import Image\n",
    "\n",
    "class customFruitDataset (Dataset):\n",
    "\n",
    "    def __init__(self, root_dir, transform = None):\n",
    "        self.root_dir = root_dir\n",
    "        self.transform = transform\n",
    "        self.image_names = []\n",
    "        self.labels=[]\n",
    "        for root, dirs, files in os.walk(root_dir):\n",
    "            for file in files:\n",
    "                if file.lower().endswith(('.png', '.jpg', '.jpeg', '.gif')):\n",
    "                    self.image_names.append(os.path.join(root, file))\n",
    "\n",
    "        self.label_mapping = self._label_mapping()\n",
    "\n",
    "    def __len__(self):\n",
    "        return len(self.image_names)\n",
    "\n",
    "    def __getitem__(self, index):\n",
    "        image= Image.open(self.image_names[index]).convert('RGB')\n",
    "        image_name = self.image_names[index]\n",
    "\n",
    "        label = self.labels[index]\n",
    "\n",
    "        if self.transform:\n",
    "            image = self.transform(image)\n",
    "\n",
    "        return image, image_name, label\n",
    "\n",
    "    def _label_mapping (self):\n",
    "        text_label_list = os.listdir(self.root_dir)\n",
    "        label_list = []\n",
    "\n",
    "        label_dict = {}\n",
    "        num_list = [i for i in range(len(text_label_list))]\n",
    "        for a, b in zip(text_label_list, num_list):\n",
    "            label_dict[a] = b\n",
    "\n",
    "        for name in self.image_names:\n",
    "            split_path = name.split('\\\\')\n",
    "            label = split_path[-2]\n",
    "\n",
    "            for k, v in label_dict.items():\n",
    "                if k == label:\n",
    "                    label_list.append(v)\n",
    "        return label_list"
   ]
  },
  {
   "cell_type": "code",
   "execution_count": 3,
   "metadata": {},
   "outputs": [],
   "source": [
    "#### fruit ------ dataloader 2"
   ]
  },
  {
   "cell_type": "code",
   "execution_count": 8,
   "metadata": {},
   "outputs": [],
   "source": [
    "import pandas as pd\n",
    "from torch.utils.data import Dataset\n",
    "from PIL import Image\n",
    "\n",
    "class customFruitDataset2 (Dataset):\n",
    "\n",
    "    def __init__(self, root_dir, transform = None):\n",
    "        self.root_dir = root_dir\n",
    "        self.transform = transform\n",
    "        self.image_names = []\n",
    "\n",
    "        for root, dirs, files in os.walk(root_dir):\n",
    "            for file in files:\n",
    "                if file.lower().endswith(('.png', '.jpg', '.jpeg', '.gif')):\n",
    "                    self.image_names.append(os.path.join(root, file))\n",
    "        self.label_mapping = self._load_label_mapping()\n",
    "\n",
    "    def __len__(self):\n",
    "        return len(self.image_names)\n",
    "\n",
    "    def __getitem__(self, index):\n",
    "        image_name = self.image_names[index]\n",
    "        image= Image.open(image_name).convert('RGB')\n",
    "        split_path = image_name.split('\\\\')[-2]\n",
    "        label = self.label_mapping[split_path]\n",
    "\n",
    "        if self.transform:\n",
    "            image = self.transform(image)\n",
    "\n",
    "        return image, image_name, label\n",
    "\n",
    "    def _load_label_mapping (self):\n",
    "        text_label_list = os.listdir(self.root_dir)\n",
    "\n",
    "        label_dict = {}\n",
    "        num_list = [i for i in range(len(text_label_list))]\n",
    "        for a, b in zip(text_label_list, num_list):\n",
    "            label_dict[a] = b\n",
    "        return label_dict"
   ]
  },
  {
   "cell_type": "code",
   "execution_count": 5,
   "metadata": {},
   "outputs": [],
   "source": [
    "# Example usage"
   ]
  },
  {
   "cell_type": "code",
   "execution_count": 9,
   "metadata": {},
   "outputs": [
    {
     "ename": "IndexError",
     "evalue": "list index out of range",
     "output_type": "error",
     "traceback": [
      "\u001b[1;31m---------------------------------------------------------------------------\u001b[0m",
      "\u001b[1;31mIndexError\u001b[0m                                Traceback (most recent call last)",
      "Cell \u001b[1;32mIn[9], line 5\u001b[0m\n\u001b[0;32m      2\u001b[0m \u001b[39mimport\u001b[39;00m \u001b[39mos\u001b[39;00m\n\u001b[0;32m      4\u001b[0m root_dir \u001b[39m=\u001b[39m customFruitDataset (\u001b[39m\"\u001b[39m\u001b[39mD:/TorchProject/dataset/fruit/test\u001b[39m\u001b[39m\"\u001b[39m)\n\u001b[1;32m----> 5\u001b[0m image,image_name,label \u001b[39m=\u001b[39m root_dir[\u001b[39m500\u001b[39;49m]\n\u001b[0;32m      6\u001b[0m \u001b[39mprint\u001b[39m (image)\n\u001b[0;32m      7\u001b[0m \u001b[39mprint\u001b[39m (label)\n",
      "Cell \u001b[1;32mIn[7], line 26\u001b[0m, in \u001b[0;36mcustomFruitDataset.__getitem__\u001b[1;34m(self, index)\u001b[0m\n\u001b[0;32m     23\u001b[0m image\u001b[39m=\u001b[39m Image\u001b[39m.\u001b[39mopen(\u001b[39mself\u001b[39m\u001b[39m.\u001b[39mimage_names[index])\u001b[39m.\u001b[39mconvert(\u001b[39m'\u001b[39m\u001b[39mRGB\u001b[39m\u001b[39m'\u001b[39m)\n\u001b[0;32m     24\u001b[0m image_name \u001b[39m=\u001b[39m \u001b[39mself\u001b[39m\u001b[39m.\u001b[39mimage_names[index]\n\u001b[1;32m---> 26\u001b[0m label \u001b[39m=\u001b[39m \u001b[39mself\u001b[39;49m\u001b[39m.\u001b[39;49mlabels[index]\n\u001b[0;32m     28\u001b[0m \u001b[39mif\u001b[39;00m \u001b[39mself\u001b[39m\u001b[39m.\u001b[39mtransform:\n\u001b[0;32m     29\u001b[0m     image \u001b[39m=\u001b[39m \u001b[39mself\u001b[39m\u001b[39m.\u001b[39mtransform(image)\n",
      "\u001b[1;31mIndexError\u001b[0m: list index out of range"
     ]
    }
   ],
   "source": [
    "from matplotlib import pyplot as plt\n",
    "import os\n",
    "\n",
    "root_dir = customFruitDataset (\"D:/TorchProject/dataset/fruit/test\")\n",
    "image,image_name,label = root_dir[500]\n",
    "print (image)\n",
    "print (label)\n",
    "print (image_name)\n",
    "\n",
    "plt.imshow(image)\n",
    "plt.axis('off')\n",
    "plt.show()"
   ]
  },
  {
   "cell_type": "code",
   "execution_count": null,
   "metadata": {},
   "outputs": [],
   "source": []
  }
 ],
 "metadata": {
  "kernelspec": {
   "display_name": "torch-env",
   "language": "python",
   "name": "python3"
  },
  "language_info": {
   "codemirror_mode": {
    "name": "ipython",
    "version": 3
   },
   "file_extension": ".py",
   "mimetype": "text/x-python",
   "name": "python",
   "nbconvert_exporter": "python",
   "pygments_lexer": "ipython3",
   "version": "3.11.4"
  },
  "orig_nbformat": 4
 },
 "nbformat": 4,
 "nbformat_minor": 2
}
